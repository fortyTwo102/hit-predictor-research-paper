{
 "cells": [
  {
   "cell_type": "code",
   "execution_count": null,
   "metadata": {},
   "outputs": [],
   "source": [
    "import numpy as np \n",
    "import pandas as pd\n",
    "import seaborn as sns\n",
    "import matplotlib.pyplot as plt\n",
    "\n",
    "decades = ['60', '70', '80', '90', '00', '10']\n",
    "\n",
    "def getDatasets(decade):\n",
    "    \n",
    "    dataset_hit = pd.read_csv('dataset/billboard' + decade + 'FeaturesDatabase.csv', delimiter = ',', encoding = 'latin')\n",
    "    dataset_hit = dataset_hit.iloc[:,3:]\n",
    "\n",
    "    dataset_flop = pd.read_csv('dataset/flop_features_' + decade + '_db.csv', delimiter = ',', encoding = 'latin')\n",
    "    dataset_flop = dataset_flop.iloc[:,3:]\n",
    "    \n",
    "    return dataset_hit, dataset_flop\n",
    "\n",
    "# setting up the iterators\n",
    "decadeIterator = iter(decades)\n",
    "decade = next(decadeIterator)\n",
    "\n",
    "dataset_hit, dataset_flop = getDatasets(decade)\n",
    "\n",
    "featuresIterator = iter(dataset_hit.columns)\n",
    "feature = next(featuresIterator)\n",
    "\n",
    "# fetching the data and bins\n",
    "\n",
    "hit = dataset_hit[feature]\n",
    "flop = dataset_flop[feature]\n",
    "bins = [0, 0.1, 0.2, 0.3, 0.4, 0.5, 0.6, 0.7, 0.8, 0.9]\n",
    "\n",
    "# setting up the plot\n",
    "fig, ax = plt.subplots()\n",
    "\n",
    "for data in (hit):\n",
    "    sns.distplot(data, bins = bins, ax = ax, kde = False)\n",
    "\n",
    "\n"
   ]
  },
  {
   "cell_type": "code",
   "execution_count": null,
   "metadata": {},
   "outputs": [],
   "source": []
  }
 ],
 "metadata": {
  "kernelspec": {
   "display_name": "Python 3",
   "language": "python",
   "name": "python3"
  },
  "language_info": {
   "codemirror_mode": {
    "name": "ipython",
    "version": 3
   },
   "file_extension": ".py",
   "mimetype": "text/x-python",
   "name": "python",
   "nbconvert_exporter": "python",
   "pygments_lexer": "ipython3",
   "version": "3.7.6"
  }
 },
 "nbformat": 4,
 "nbformat_minor": 4
}
