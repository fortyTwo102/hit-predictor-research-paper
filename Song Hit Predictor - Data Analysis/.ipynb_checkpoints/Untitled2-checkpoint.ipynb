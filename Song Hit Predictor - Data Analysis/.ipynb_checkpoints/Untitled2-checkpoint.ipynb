{
 "cells": [
  {
   "cell_type": "code",
   "execution_count": 11,
   "metadata": {},
   "outputs": [],
   "source": [
    "import numpy as np \n",
    "import pandas as pd\n",
    "import seaborn as sns\n",
    "\n",
    "decades = ['60', '70', '80', '90', '00', '10']\n",
    "\n",
    "def getDatasets(decade):\n",
    "    \n",
    "    dataset_hit = pd.read_csv('dataset/billboard' + decade + 'FeaturesDatabase.csv', delimiter = ',', encoding = 'latin')\n",
    "    dataset_hit = dataset_hit.iloc[:,3:]\n",
    "\n",
    "    dataset_flop = pd.read_csv('dataset/flop_features_' + decade + '_db.csv', delimiter = ',', encoding = 'latin')\n",
    "    dataset_flop = dataset_flop.iloc[:,3:]\n",
    "    \n",
    "    # print(dataset_hit.head)\n",
    "    \n",
    "    return dataset_hit, dataset_flop\n",
    "\n",
    "decadeIterator = iter(decades)\n",
    "decade = next(decadeIterator)\n",
    "\n",
    "dataset_hit, dataset_flop = getDatasets(decade)\n",
    "\n",
    "featuresIterator = iter(dataset_hit.columns)\n",
    "feature = next(featuresIterator)\n",
    "\n",
    "    "
   ]
  },
  {
   "cell_type": "code",
   "execution_count": null,
   "metadata": {},
   "outputs": [],
   "source": []
  }
 ],
 "metadata": {
  "kernelspec": {
   "display_name": "Python 3",
   "language": "python",
   "name": "python3"
  },
  "language_info": {
   "codemirror_mode": {
    "name": "ipython",
    "version": 3
   },
   "file_extension": ".py",
   "mimetype": "text/x-python",
   "name": "python",
   "nbconvert_exporter": "python",
   "pygments_lexer": "ipython3",
   "version": "3.7.6"
  }
 },
 "nbformat": 4,
 "nbformat_minor": 4
}
