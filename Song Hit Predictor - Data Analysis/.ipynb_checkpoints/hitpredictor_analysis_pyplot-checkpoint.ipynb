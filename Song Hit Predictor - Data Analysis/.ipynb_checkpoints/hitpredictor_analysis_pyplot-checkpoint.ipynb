{
 "cells": [
  {
   "cell_type": "code",
   "execution_count": 43,
   "metadata": {},
   "outputs": [],
   "source": [
    "import numpy as np \n",
    "import pandas as pd\n",
    "import matplotlib.pyplot as plt"
   ]
  },
  {
   "cell_type": "code",
   "execution_count": 44,
   "metadata": {},
   "outputs": [],
   "source": [
    "decades = ['60', '70', '80', '90', '00', '10']"
   ]
  },
  {
   "cell_type": "code",
   "execution_count": 49,
   "metadata": {},
   "outputs": [],
   "source": [
    "dataset_hit = pd.read_csv('dataset/billboard60FeaturesDatabase.csv', delimiter = ',', encoding = 'latin')\n",
    "dataset_hit = dataset_hit.iloc[:,3:]\n",
    "\n",
    "dataset_flop = pd.read_csv('dataset/flop_features_60_db.csv', delimiter = ',', encoding = 'latin')\n",
    "dataset_flop = dataset_flop.iloc[:,3:]"
   ]
  },
  {
   "cell_type": "code",
   "execution_count": 189,
   "metadata": {},
   "outputs": [
    {
     "data": {
      "text/plain": [
       "(array([ 42., 298., 513., 739., 974., 848., 596., 262.,  48.]),\n",
       " array([0. , 0.1, 0.2, 0.3, 0.4, 0.5, 0.6, 0.7, 0.8, 0.9]),\n",
       " <a list of 9 Patch objects>)"
      ]
     },
     "execution_count": 189,
     "metadata": {},
     "output_type": "execute_result"
    },
    {
     "data": {
      "image/png": "[encoded data removed]",
      "text/plain": [
       "<Figure size 432x288 with 2 Axes>"
      ]
     },
     "metadata": {
      "needs_background": "light"
     },
     "output_type": "display_data"
    }
   ],
   "source": [
    "danceability_hit = dataset_hit['danceability']\n",
    "plt.subplot(1,2,1)\n",
    "bins = [0, 0.1, 0.2, 0.3, 0.4, 0.5, 0.6, 0.7, 0.8, 0.9]\n",
    "plt.title('danceability_hit')\n",
    "plt.hist(danceability_hit, bins, histtype = 'bar')\n",
    "\n",
    "plt.subplot(1,2,2)\n",
    "danceability_flop = dataset_flop['danceability']\n",
    "bins = [0, 0.1, 0.2, 0.3, 0.4, 0.5, 0.6, 0.7, 0.8, 0.9]\n",
    "plt.title('danceability_flop')\n",
    "plt.hist(danceability_flop, bins, histtype = 'bar', color = 'orange')"
   ]
  },
  {
   "cell_type": "code",
   "execution_count": 190,
   "metadata": {},
   "outputs": [
    {
     "data": {
      "text/plain": [
       "(array([453., 613., 692., 699., 591., 486., 359., 248., 129.]),\n",
       " array([0. , 0.1, 0.2, 0.3, 0.4, 0.5, 0.6, 0.7, 0.8, 0.9]),\n",
       " <a list of 9 Patch objects>)"
      ]
     },
     "execution_count": 190,
     "metadata": {},
     "output_type": "execute_result"
    },
    {
     "data": {
      "image/png": "[encoded data removed]",
      "text/plain": [
       "<Figure size 432x288 with 2 Axes>"
      ]
     },
     "metadata": {
      "needs_background": "light"
     },
     "output_type": "display_data"
    }
   ],
   "source": [
    "energy_hit = dataset_hit['energy']\n",
    "plt.subplot(1,2,1)\n",
    "bins = [0, 0.1, 0.2, 0.3, 0.4, 0.5, 0.6, 0.7, 0.8, 0.9]\n",
    "plt.title('energy_hit')\n",
    "plt.hist(energy_hit, bins, histtype = 'bar')\n",
    "\n",
    "plt.subplot(1,2,2)\n",
    "energy_flop = dataset_flop['energy']\n",
    "bins = [0, 0.1, 0.2, 0.3, 0.4, 0.5, 0.6, 0.7, 0.8, 0.9]\n",
    "plt.title('energy_flop')\n",
    "plt.hist(energy_flop, bins, histtype = 'bar', color = 'orange')"
   ]
  },
  {
   "cell_type": "code",
   "execution_count": 191,
   "metadata": {},
   "outputs": [
    {
     "data": {
      "text/plain": [
       "(array([ 10.,   1.,  49., 117., 187., 291., 436., 566., 567., 472., 725.]),\n",
       " array([ 0,  1,  2,  3,  4,  5,  6,  7,  8,  9, 10, 11]),\n",
       " <a list of 11 Patch objects>)"
      ]
     },
     "execution_count": 191,
     "metadata": {},
     "output_type": "execute_result"
    },
    {
     "data": {
      "image/png": "[encoded data removed]",
      "text/plain": [
       "<Figure size 432x288 with 2 Axes>"
      ]
     },
     "metadata": {
      "needs_background": "light"
     },
     "output_type": "display_data"
    }
   ],
   "source": [
    "key_hit = dataset_hit['key']\n",
    "plt.subplot(1,2,1)\n",
    "bins = list(range(12))\n",
    "plt.title('key_hit')\n",
    "plt.hist(key_hit, bins, histtype = 'bar')\n",
    "\n",
    "plt.subplot(1,2,2)\n",
    "key_flop = dataset_flop['key']\n",
    "bins = list(range(12))\n",
    "plt.title('key_flop')\n",
    "plt.hist(sections_flop, bins, histtype = 'bar', color = 'orange')"
   ]
  },
  {
   "cell_type": "code",
   "execution_count": 192,
   "metadata": {},
   "outputs": [
    {
     "name": "stdout",
     "output_type": "stream",
     "text": [
      "-0.507 -28.03\n",
      "-0.934 -41.643\n"
     ]
    },
    {
     "data": {
      "text/plain": [
       "(array([ 364., 2332., 1180.,  251.,   98.,   40.,   25.,   14.]),\n",
       " array([ 0,  5, 10, 15, 20, 25, 30, 35, 40]),\n",
       " <a list of 8 Patch objects>)"
      ]
     },
     "execution_count": 192,
     "metadata": {},
     "output_type": "execute_result"
    },
    {
     "data": {
      "image/png": "[encoded data removed]",
      "text/plain": [
       "<Figure size 432x288 with 2 Axes>"
      ]
     },
     "metadata": {
      "needs_background": "light"
     },
     "output_type": "display_data"
    }
   ],
   "source": [
    "hit = dataset_hit['loudness']\n",
    "print (hit.max(), hit.min())\n",
    "plt.subplot(1,2,1)\n",
    "bins = list(range(0, 30, 5))\n",
    "plt.title('loudness_hit')\n",
    "plt.hist(key_hit, bins, histtype = 'bar')\n",
    "\n",
    "plt.subplot(1,2,2)\n",
    "flop = dataset_flop['loudness']\n",
    "print (flop.max(), flop.min())\n",
    "bins = list(range(0, 45, 5))\n",
    "plt.title('loudness_flop')\n",
    "plt.hist(sections_flop, bins, histtype = 'bar', color = 'orange')"
   ]
  },
  {
   "cell_type": "code",
   "execution_count": 193,
   "metadata": {},
   "outputs": [
    {
     "data": {
      "text/plain": [
       "(array([1416., 2905.]), array([0, 1, 2]), <a list of 2 Patch objects>)"
      ]
     },
     "execution_count": 193,
     "metadata": {},
     "output_type": "execute_result"
    },
    {
     "data": {
      "image/png": "[encoded data removed]",
      "text/plain": [
       "<Figure size 432x288 with 2 Axes>"
      ]
     },
     "metadata": {
      "needs_background": "light"
     },
     "output_type": "display_data"
    }
   ],
   "source": [
    "hit = dataset_hit['mode'].fillna('-9').astype(int)\n",
    "plt.subplot(1,2,1)\n",
    "bins = list(range(3))\n",
    "plt.title('mode_hit')\n",
    "plt.hist(hit, bins, histtype = 'bar')\n",
    "\n",
    "plt.subplot(1,2,2)\n",
    "flop = dataset_flop['mode'].astype(int)\n",
    "bins = list(range(3))\n",
    "plt.title('mode_flop')\n",
    "plt.hist(flop, bins, histtype = 'bar', color = 'orange')"
   ]
  },
  {
   "cell_type": "code",
   "execution_count": 194,
   "metadata": {},
   "outputs": [
    {
     "data": {
      "text/plain": [
       "(array([4204.,   36.,   81.]),\n",
       " array([0. , 0.4, 0.7, 1. ]),\n",
       " <a list of 3 Patch objects>)"
      ]
     },
     "execution_count": 194,
     "metadata": {},
     "output_type": "execute_result"
    },
    {
     "data": {
      "image/png": "[encoded data removed]",
      "text/plain": [
       "<Figure size 432x288 with 2 Axes>"
      ]
     },
     "metadata": {
      "needs_background": "light"
     },
     "output_type": "display_data"
    }
   ],
   "source": [
    "hit = dataset_hit['speechiness']\n",
    "plt.subplot(1,2,1)\n",
    "bins = [0, 0.4, 0.7, 1]\n",
    "plt.title('speechiness_hit')\n",
    "plt.hist(hit, bins, histtype = 'bar')\n",
    "\n",
    "plt.subplot(1,2,2)\n",
    "flop = dataset_flop['speechiness']\n",
    "bins = [0, 0.4, 0.7, 1]\n",
    "plt.title('speechiness_flop')\n",
    "plt.hist(flop, bins, histtype = 'bar', color = 'orange')"
   ]
  },
  {
   "cell_type": "code",
   "execution_count": 195,
   "metadata": {},
   "outputs": [
    {
     "name": "stdout",
     "output_type": "stream",
     "text": [
      "0.991\n",
      "0.996\n"
     ]
    },
    {
     "data": {
      "text/plain": [
       "(array([ 219.,  156.,  186.,  184.,  246.,  298.,  426.,  555.,  723.,\n",
       "        1328.]),\n",
       " array([0. , 0.1, 0.2, 0.3, 0.4, 0.5, 0.6, 0.7, 0.8, 0.9, 1. ]),\n",
       " <a list of 10 Patch objects>)"
      ]
     },
     "execution_count": 195,
     "metadata": {},
     "output_type": "execute_result"
    },
    {
     "data": {
      "image/png": "[encoded data removed]",
      "text/plain": [
       "<Figure size 432x288 with 2 Axes>"
      ]
     },
     "metadata": {
      "needs_background": "light"
     },
     "output_type": "display_data"
    }
   ],
   "source": [
    "hit = dataset_hit['acousticness']\n",
    "plt.subplot(1,2,1)\n",
    "print(max(hit))\n",
    "bins = [0, 0.1, 0.2, 0.3, 0.4, 0.5, 0.6, 0.7, 0.8, 0.9, 1]\n",
    "plt.title('acousticness_hit')\n",
    "plt.hist(hit, bins, histtype = 'bar')\n",
    "\n",
    "plt.subplot(1,2,2)\n",
    "flop = dataset_flop['acousticness']\n",
    "print(max(flop))\n",
    "plt.title('acousticness_flop')\n",
    "bins = [0, 0.1, 0.2, 0.3, 0.4, 0.5, 0.6, 0.7, 0.8, 0.9, 1]\n",
    "\n",
    "plt.hist(flop, bins, histtype = 'bar', color = 'orange')"
   ]
  },
  {
   "cell_type": "code",
   "execution_count": 145,
   "metadata": {
    "scrolled": true
   },
   "outputs": [
    {
     "name": "stdout",
     "output_type": "stream",
     "text": [
      "0.981\n",
      "0.9990000000000001\n"
     ]
    },
    {
     "data": {
      "text/plain": [
       "(array([2750.,  136.,   94.,   96.,   95.,  101.,   97.,  188.,  390.,\n",
       "         374.]),\n",
       " array([0. , 0.1, 0.2, 0.3, 0.4, 0.5, 0.6, 0.7, 0.8, 0.9, 1. ]),\n",
       " <a list of 10 Patch objects>)"
      ]
     },
     "execution_count": 145,
     "metadata": {},
     "output_type": "execute_result"
    },
    {
     "data": {
      "image/png": "[encoded data removed]",
      "text/plain": [
       "<Figure size 432x288 with 2 Axes>"
      ]
     },
     "metadata": {
      "needs_background": "light"
     },
     "output_type": "display_data"
    }
   ],
   "source": [
    "hit = dataset_hit['instrumentalness']\n",
    "plt.subplot(1,2,1)\n",
    "print(max(hit))\n",
    "bins = [0, 0.1, 0.2, 0.3, 0.4, 0.5, 0.6, 0.7, 0.8, 0.9, 1]\n",
    "plt.hist(hit, bins, histtype = 'bar')\n",
    "\n",
    "plt.subplot(1,2,2)\n",
    "flop = dataset_flop['instrumentalness']\n",
    "print(max(flop))\n",
    "bins = [0, 0.1, 0.2, 0.3, 0.4, 0.5, 0.6, 0.7, 0.8, 0.9, 1]\n",
    "\n",
    "plt.hist(flop, bins, histtype = 'bar', color = 'orange')"
   ]
  },
  {
   "cell_type": "code",
   "execution_count": 196,
   "metadata": {},
   "outputs": [
    {
     "name": "stdout",
     "output_type": "stream",
     "text": [
      "0.9840000000000001\n",
      "0.971\n"
     ]
    },
    {
     "data": {
      "text/plain": [
       "(array([ 931., 1866.,  622.,  464.,  147.,   94.,   90.,   48.,   35.,\n",
       "          24.]),\n",
       " array([0. , 0.1, 0.2, 0.3, 0.4, 0.5, 0.6, 0.7, 0.8, 0.9, 1. ]),\n",
       " <a list of 10 Patch objects>)"
      ]
     },
     "execution_count": 196,
     "metadata": {},
     "output_type": "execute_result"
    },
    {
     "data": {
      "image/png": "[encoded data removed]",
      "text/plain": [
       "<Figure size 432x288 with 2 Axes>"
      ]
     },
     "metadata": {
      "needs_background": "light"
     },
     "output_type": "display_data"
    }
   ],
   "source": [
    "hit = dataset_hit['liveness']\n",
    "plt.subplot(1,2,1)\n",
    "print(max(hit))\n",
    "bins = [0, 0.1, 0.2, 0.3, 0.4, 0.5, 0.6, 0.7, 0.8, 0.9, 1]\n",
    "plt.title('liveness_hit')\n",
    "plt.hist(hit, bins, histtype = 'bar')\n",
    "\n",
    "plt.subplot(1,2,2)\n",
    "flop = dataset_flop['liveness']\n",
    "print(max(flop))\n",
    "bins = [0, 0.1, 0.2, 0.3, 0.4, 0.5, 0.6, 0.7, 0.8, 0.9, 1]\n",
    "plt.title('liveness_flop')\n",
    "plt.hist(flop, bins, histtype = 'bar', color = 'orange')"
   ]
  },
  {
   "cell_type": "code",
   "execution_count": 147,
   "metadata": {},
   "outputs": [
    {
     "name": "stdout",
     "output_type": "stream",
     "text": [
      "0.991\n",
      "0.993\n"
     ]
    },
    {
     "data": {
      "text/plain": [
       "(array([484., 439., 392., 469., 446., 467., 435., 399., 392., 398.]),\n",
       " array([0. , 0.1, 0.2, 0.3, 0.4, 0.5, 0.6, 0.7, 0.8, 0.9, 1. ]),\n",
       " <a list of 10 Patch objects>)"
      ]
     },
     "execution_count": 147,
     "metadata": {},
     "output_type": "execute_result"
    },
    {
     "data": {
      "image/png": "[encoded data removed]",
      "text/plain": [
       "<Figure size 432x288 with 2 Axes>"
      ]
     },
     "metadata": {
      "needs_background": "light"
     },
     "output_type": "display_data"
    }
   ],
   "source": [
    "hit = dataset_hit['valence']\n",
    "plt.subplot(1,2,1)\n",
    "print(max(hit))\n",
    "bins = [0, 0.1, 0.2, 0.3, 0.4, 0.5, 0.6, 0.7, 0.8, 0.9, 1]\n",
    "plt.hist(hit, bins, histtype = 'bar')\n",
    "\n",
    "plt.subplot(1,2,2)\n",
    "flop = dataset_flop['valence']\n",
    "print(max(flop))\n",
    "bins = [0, 0.1, 0.2, 0.3, 0.4, 0.5, 0.6, 0.7, 0.8, 0.9, 1]\n",
    "\n",
    "plt.hist(flop, bins, histtype = 'bar', color = 'orange')"
   ]
  },
  {
   "cell_type": "code",
   "execution_count": 197,
   "metadata": {},
   "outputs": [
    {
     "name": "stdout",
     "output_type": "stream",
     "text": [
      "241.00900000000001\n",
      "212.9\n"
     ]
    },
    {
     "data": {
      "text/plain": [
       "(array([  14., 1681., 2201.,  397.,   28.]),\n",
       " array([  0,  50, 100, 150, 200, 250]),\n",
       " <a list of 5 Patch objects>)"
      ]
     },
     "execution_count": 197,
     "metadata": {},
     "output_type": "execute_result"
    },
    {
     "data": {
      "image/png": "[encoded data removed]",
      "text/plain": [
       "<Figure size 432x288 with 2 Axes>"
      ]
     },
     "metadata": {
      "needs_background": "light"
     },
     "output_type": "display_data"
    }
   ],
   "source": [
    "hit = dataset_hit['tempo']\n",
    "plt.subplot(1,2,1)\n",
    "print(max(hit))\n",
    "bins = list(range(0,300,50))\n",
    "plt.title('tempo_hit')\n",
    "plt.hist(hit, bins, histtype = 'bar')\n",
    "\n",
    "plt.subplot(1,2,2)\n",
    "flop = dataset_flop['tempo']\n",
    "print(max(flop))\n",
    "bins = list(range(0,300,50))\n",
    "plt.title('tempo_flop')\n",
    "plt.hist(flop, bins, histtype = 'bar', color = 'orange')"
   ]
  },
  {
   "cell_type": "code",
   "execution_count": 159,
   "metadata": {},
   "outputs": [
    {
     "name": "stdout",
     "output_type": "stream",
     "text": [
      "1124.153\n",
      "2516.987\n"
     ]
    },
    {
     "data": {
      "text/plain": [
       "(array([4.180e+02, 2.465e+03, 9.300e+02, 2.460e+02, 1.270e+02, 5.200e+01,\n",
       "        3.700e+01, 1.700e+01, 6.000e+00, 5.000e+00, 6.000e+00, 3.000e+00,\n",
       "        3.000e+00, 1.000e+00, 2.000e+00, 1.000e+00, 1.000e+00, 0.000e+00,\n",
       "        0.000e+00, 0.000e+00, 0.000e+00, 0.000e+00, 0.000e+00, 0.000e+00]),\n",
       " array([   0,  100,  200,  300,  400,  500,  600,  700,  800,  900, 1000,\n",
       "        1100, 1200, 1300, 1400, 1500, 1600, 1700, 1800, 1900, 2000, 2100,\n",
       "        2200, 2300, 2400]),\n",
       " <a list of 24 Patch objects>)"
      ]
     },
     "execution_count": 159,
     "metadata": {},
     "output_type": "execute_result"
    },
    {
     "data": {
      "image/png": "[encoded data removed]",
      "text/plain": [
       "<Figure size 432x288 with 2 Axes>"
      ]
     },
     "metadata": {
      "needs_background": "light"
     },
     "output_type": "display_data"
    }
   ],
   "source": [
    "hit = dataset_hit['duration_ms']\n",
    "hit = hit.apply(lambda x: x / 1000)\n",
    "plt.subplot(1,2,1)\n",
    "print(max(hit))\n",
    "bins = list(range(0,1200,100))\n",
    "plt.hist(hit, bins, histtype = 'bar')\n",
    "\n",
    "plt.subplot(1,2,2)\n",
    "flop = dataset_flop['duration_ms']\n",
    "flop = flop.apply(lambda x: x / 1000)\n",
    "print(max(flop))\n",
    "bins = list(range(0,2500,100))\n",
    "\n",
    "plt.hist(flop, bins, histtype = 'bar', color = 'orange')"
   ]
  },
  {
   "cell_type": "code",
   "execution_count": 198,
   "metadata": {},
   "outputs": [
    {
     "name": "stdout",
     "output_type": "stream",
     "text": [
      "5.0\n",
      "5\n"
     ]
    },
    {
     "data": {
      "text/plain": [
       "(array([   0.,   93.,    0.,  777., 3294.,  157.]),\n",
       " array([0, 1, 2, 3, 4, 5, 6]),\n",
       " <a list of 6 Patch objects>)"
      ]
     },
     "execution_count": 198,
     "metadata": {},
     "output_type": "execute_result"
    },
    {
     "data": {
      "image/png": "[encoded data removed]",
      "text/plain": [
       "<Figure size 432x288 with 2 Axes>"
      ]
     },
     "metadata": {
      "needs_background": "light"
     },
     "output_type": "display_data"
    }
   ],
   "source": [
    "hit = dataset_hit['time_signature']\n",
    "plt.subplot(1,2,1)\n",
    "print(max(hit))\n",
    "bins = [0,1,2,3,4,5,6]\n",
    "plt.title('time_signature_hit')\n",
    "plt.hist(hit, bins, histtype = 'bar')\n",
    "\n",
    "plt.subplot(1,2,2)\n",
    "flop = dataset_flop['time_signature']\n",
    "print(max(flop))\n",
    "bins = [0,1,2,3,4,5,6]\n",
    "plt.title('time_signature_flop')\n",
    "plt.hist(flop, bins, histtype = 'bar', color = 'orange')"
   ]
  },
  {
   "cell_type": "code",
   "execution_count": 199,
   "metadata": {},
   "outputs": [
    {
     "name": "stdout",
     "output_type": "stream",
     "text": [
      "187.49563\n",
      "177.04593\n"
     ]
    },
    {
     "data": {
      "text/plain": [
       "(array([3.410e+02, 2.278e+03, 1.205e+03, 3.500e+02, 1.090e+02, 2.400e+01,\n",
       "        9.000e+00, 3.000e+00, 2.000e+00]),\n",
       " array([  0,  20,  40,  60,  80, 100, 120, 140, 160, 180]),\n",
       " <a list of 9 Patch objects>)"
      ]
     },
     "execution_count": 199,
     "metadata": {},
     "output_type": "execute_result"
    },
    {
     "data": {
      "image/png": "[encoded data removed]",
      "text/plain": [
       "<Figure size 432x288 with 2 Axes>"
      ]
     },
     "metadata": {
      "needs_background": "light"
     },
     "output_type": "display_data"
    }
   ],
   "source": [
    "hit = dataset_hit['chorusHit'].fillna(-1)\n",
    "plt.subplot(1,2,1)\n",
    "print(max(hit))\n",
    "bins = list(range(0,200,20))\n",
    "plt.title('chorusHit_hit')\n",
    "plt.hist(hit, bins, histtype = 'bar')\n",
    "\n",
    "plt.subplot(1,2,2)\n",
    "flop = dataset_flop['chorusHit']\n",
    "print(max(flop))\n",
    "bins = list(range(0,200,20))\n",
    "plt.title('chorusHit_flop')\n",
    "plt.hist(flop, bins, histtype = 'bar', color = 'orange')"
   ]
  },
  {
   "cell_type": "code",
   "execution_count": 200,
   "metadata": {
    "scrolled": true
   },
   "outputs": [
    {
     "data": {
      "text/plain": [
       "(array([3.640e+02, 2.332e+03, 1.180e+03, 2.510e+02, 9.800e+01, 4.000e+01,\n",
       "        2.500e+01, 1.200e+01, 7.000e+00, 4.000e+00, 2.000e+00, 2.000e+00,\n",
       "        1.000e+00, 1.000e+00, 0.000e+00, 1.000e+00, 0.000e+00, 0.000e+00,\n",
       "        0.000e+00, 0.000e+00, 0.000e+00]),\n",
       " array([  0,   5,  10,  15,  20,  25,  30,  35,  40,  45,  50,  55,  60,\n",
       "         65,  70,  75,  80,  85,  90,  95, 100, 105]),\n",
       " <a list of 21 Patch objects>)"
      ]
     },
     "execution_count": 200,
     "metadata": {},
     "output_type": "execute_result"
    },
    {
     "data": {
      "image/png": "[encoded data removed]",
      "text/plain": [
       "<Figure size 432x288 with 2 Axes>"
      ]
     },
     "metadata": {
      "needs_background": "light"
     },
     "output_type": "display_data"
    }
   ],
   "source": [
    "sections_hit = dataset_hit['sections'].fillna(-1).astype(int)\n",
    "plt.subplot(1,2,1)\n",
    "bins = list(range(0,max(sections_hit),5))\n",
    "plt.title('section_hit')\n",
    "plt.hist(sections_hit, bins, histtype = 'bar')\n",
    "\n",
    "plt.subplot(1,2,2)\n",
    "sections_flop = dataset_flop['sections'].fillna(-1).astype(int)\n",
    "bins = list(range(0,max(sections_flop),5))\n",
    "plt.title('section_flop')\n",
    "plt.hist(sections_flop, bins, histtype = 'bar', color = 'orange')"
   ]
  },
  {
   "cell_type": "code",
   "execution_count": 89,
   "metadata": {},
   "outputs": [
    {
     "name": "stdout",
     "output_type": "stream",
     "text": [
      "Index(['danceability', 'energy', 'key', 'loudness', 'mode', 'speechiness',\n",
      "       'acousticness', 'instrumentalness', 'liveness', 'valence', 'tempo',\n",
      "       'duration_ms', 'time_signature', 'chorusHit', 'sections'],\n",
      "      dtype='object')\n"
     ]
    }
   ],
   "source": [
    "print (dataset.columns)"
   ]
  },
  {
   "cell_type": "code",
   "execution_count": null,
   "metadata": {},
   "outputs": [],
   "source": []
  }
 ],
 "metadata": {
  "kernelspec": {
   "display_name": "Python 3",
   "language": "python",
   "name": "python3"
  },
  "language_info": {
   "codemirror_mode": {
    "name": "ipython",
    "version": 3
   },
   "file_extension": ".py",
   "mimetype": "text/x-python",
   "name": "python",
   "nbconvert_exporter": "python",
   "pygments_lexer": "ipython3",
   "version": "3.7.6"
  }
 },
 "nbformat": 4,
 "nbformat_minor": 4
}
